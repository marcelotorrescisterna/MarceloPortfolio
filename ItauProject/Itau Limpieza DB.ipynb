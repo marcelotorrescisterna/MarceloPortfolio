{
 "cells": [
  {
   "cell_type": "code",
   "execution_count": 1,
   "metadata": {},
   "outputs": [],
   "source": [
    "import pandas as pd\n",
    "import numpy as np\n",
    "import seaborn as sns\n",
    "import matplotlib.pyplot as plt\n",
    "import tensorflow as tf\n",
    "from tensorflow import keras\n",
    "from keras.utils import to_categorical\n",
    "from sklearn.preprocessing import OneHotEncoder"
   ]
  },
  {
   "cell_type": "markdown",
   "metadata": {},
   "source": [
    "# Categorical Maker"
   ]
  },
  {
   "cell_type": "code",
   "execution_count": 2,
   "metadata": {},
   "outputs": [],
   "source": [
    "def CategoricalConverter(column):\n",
    "    onehotencoder = OneHotEncoder()\n",
    "    prod = onehotencoder.fit_transform(pd.DataFrame(column)).toarray() # Convertir a categórico\n",
    "    prod = pd.DataFrame(prod, columns = np.sort(column.unique())) #Hacer un df con columnas\n",
    "    return prod\n",
    "def OneZero(x):\n",
    "    if x >=1:\n",
    "        x = 1\n",
    "    else:\n",
    "        x = 0\n",
    "    return x"
   ]
  },
  {
   "cell_type": "markdown",
   "metadata": {},
   "source": [
    "# Campañas"
   ]
  },
  {
   "cell_type": "code",
   "execution_count": 3,
   "metadata": {},
   "outputs": [],
   "source": [
    "cmp = pd.read_csv('../Bases/Campanas_train.csv')\n",
    "cmp.drop(['Unnamed: 0' , 'Id_Producto' , 'Tipo'] , axis = 1 , inplace = True)"
   ]
  },
  {
   "cell_type": "code",
   "execution_count": 4,
   "metadata": {},
   "outputs": [
    {
     "data": {
      "text/html": [
       "<div>\n",
       "<style scoped>\n",
       "    .dataframe tbody tr th:only-of-type {\n",
       "        vertical-align: middle;\n",
       "    }\n",
       "\n",
       "    .dataframe tbody tr th {\n",
       "        vertical-align: top;\n",
       "    }\n",
       "\n",
       "    .dataframe thead th {\n",
       "        text-align: right;\n",
       "    }\n",
       "</style>\n",
       "<table border=\"1\" class=\"dataframe\">\n",
       "  <thead>\n",
       "    <tr style=\"text-align: right;\">\n",
       "      <th></th>\n",
       "      <th>id</th>\n",
       "      <th>Producto-Tipo</th>\n",
       "      <th>Fecha_Campaña</th>\n",
       "      <th>Periodo</th>\n",
       "      <th>Resultado</th>\n",
       "      <th>Canal</th>\n",
       "      <th>Duracion_Campaña</th>\n",
       "    </tr>\n",
       "  </thead>\n",
       "  <tbody>\n",
       "    <tr>\n",
       "      <th>0</th>\n",
       "      <td>1</td>\n",
       "      <td>A-A</td>\n",
       "      <td>2020-01-02</td>\n",
       "      <td>202001</td>\n",
       "      <td>0</td>\n",
       "      <td>B</td>\n",
       "      <td>1</td>\n",
       "    </tr>\n",
       "    <tr>\n",
       "      <th>1</th>\n",
       "      <td>1</td>\n",
       "      <td>B-B</td>\n",
       "      <td>2020-01-21</td>\n",
       "      <td>202001</td>\n",
       "      <td>0</td>\n",
       "      <td>C</td>\n",
       "      <td>1</td>\n",
       "    </tr>\n",
       "    <tr>\n",
       "      <th>2</th>\n",
       "      <td>1</td>\n",
       "      <td>A-A</td>\n",
       "      <td>2020-02-03</td>\n",
       "      <td>202002</td>\n",
       "      <td>0</td>\n",
       "      <td>B</td>\n",
       "      <td>1</td>\n",
       "    </tr>\n",
       "    <tr>\n",
       "      <th>3</th>\n",
       "      <td>1</td>\n",
       "      <td>B-B</td>\n",
       "      <td>2020-02-18</td>\n",
       "      <td>202002</td>\n",
       "      <td>0</td>\n",
       "      <td>C</td>\n",
       "      <td>1</td>\n",
       "    </tr>\n",
       "    <tr>\n",
       "      <th>4</th>\n",
       "      <td>1</td>\n",
       "      <td>A-A</td>\n",
       "      <td>2020-03-02</td>\n",
       "      <td>202003</td>\n",
       "      <td>0</td>\n",
       "      <td>B</td>\n",
       "      <td>1</td>\n",
       "    </tr>\n",
       "    <tr>\n",
       "      <th>...</th>\n",
       "      <td>...</td>\n",
       "      <td>...</td>\n",
       "      <td>...</td>\n",
       "      <td>...</td>\n",
       "      <td>...</td>\n",
       "      <td>...</td>\n",
       "      <td>...</td>\n",
       "    </tr>\n",
       "    <tr>\n",
       "      <th>493323</th>\n",
       "      <td>79539</td>\n",
       "      <td>B-B</td>\n",
       "      <td>2020-01-28</td>\n",
       "      <td>202001</td>\n",
       "      <td>0</td>\n",
       "      <td>C</td>\n",
       "      <td>1</td>\n",
       "    </tr>\n",
       "    <tr>\n",
       "      <th>493324</th>\n",
       "      <td>79539</td>\n",
       "      <td>C-D</td>\n",
       "      <td>2020-07-20</td>\n",
       "      <td>202007</td>\n",
       "      <td>0</td>\n",
       "      <td>C</td>\n",
       "      <td>1</td>\n",
       "    </tr>\n",
       "    <tr>\n",
       "      <th>493325</th>\n",
       "      <td>79539</td>\n",
       "      <td>A-A</td>\n",
       "      <td>2020-07-01</td>\n",
       "      <td>202007</td>\n",
       "      <td>0</td>\n",
       "      <td>B</td>\n",
       "      <td>1</td>\n",
       "    </tr>\n",
       "    <tr>\n",
       "      <th>493326</th>\n",
       "      <td>79539</td>\n",
       "      <td>B-B</td>\n",
       "      <td>2020-04-08</td>\n",
       "      <td>202004</td>\n",
       "      <td>0</td>\n",
       "      <td>C</td>\n",
       "      <td>1</td>\n",
       "    </tr>\n",
       "    <tr>\n",
       "      <th>493327</th>\n",
       "      <td>79539</td>\n",
       "      <td>A-A</td>\n",
       "      <td>2020-03-02</td>\n",
       "      <td>202003</td>\n",
       "      <td>0</td>\n",
       "      <td>B</td>\n",
       "      <td>1</td>\n",
       "    </tr>\n",
       "  </tbody>\n",
       "</table>\n",
       "<p>493328 rows × 7 columns</p>\n",
       "</div>"
      ],
      "text/plain": [
       "           id Producto-Tipo Fecha_Campaña  Periodo  Resultado Canal  \\\n",
       "0           1           A-A    2020-01-02   202001          0     B   \n",
       "1           1           B-B    2020-01-21   202001          0     C   \n",
       "2           1           A-A    2020-02-03   202002          0     B   \n",
       "3           1           B-B    2020-02-18   202002          0     C   \n",
       "4           1           A-A    2020-03-02   202003          0     B   \n",
       "...       ...           ...           ...      ...        ...   ...   \n",
       "493323  79539           B-B    2020-01-28   202001          0     C   \n",
       "493324  79539           C-D    2020-07-20   202007          0     C   \n",
       "493325  79539           A-A    2020-07-01   202007          0     B   \n",
       "493326  79539           B-B    2020-04-08   202004          0     C   \n",
       "493327  79539           A-A    2020-03-02   202003          0     B   \n",
       "\n",
       "        Duracion_Campaña  \n",
       "0                      1  \n",
       "1                      1  \n",
       "2                      1  \n",
       "3                      1  \n",
       "4                      1  \n",
       "...                  ...  \n",
       "493323                 1  \n",
       "493324                 1  \n",
       "493325                 1  \n",
       "493326                 1  \n",
       "493327                 1  \n",
       "\n",
       "[493328 rows x 7 columns]"
      ]
     },
     "execution_count": 4,
     "metadata": {},
     "output_type": "execute_result"
    }
   ],
   "source": [
    "cmp"
   ]
  },
  {
   "cell_type": "markdown",
   "metadata": {},
   "source": [
    "# EDA Campañas"
   ]
  },
  {
   "cell_type": "code",
   "execution_count": 5,
   "metadata": {},
   "outputs": [
    {
     "data": {
      "text/plain": [
       "<matplotlib.axes._subplots.AxesSubplot at 0x20a93d2ad00>"
      ]
     },
     "execution_count": 5,
     "metadata": {},
     "output_type": "execute_result"
    },
    {
     "data": {
      "image/png": "[encoded data removed]",
      "text/plain": [
       "<Figure size 288x288 with 1 Axes>"
      ]
     },
     "metadata": {
      "needs_background": "light"
     },
     "output_type": "display_data"
    }
   ],
   "source": [
    "plt.figure(figsize = (4,4))\n",
    "sns.countplot(x = 'Producto-Tipo' , data = cmp)"
   ]
  },
  {
   "cell_type": "code",
   "execution_count": 6,
   "metadata": {},
   "outputs": [
    {
     "data": {
      "text/plain": [
       "<matplotlib.axes._subplots.AxesSubplot at 0x20a9631dca0>"
      ]
     },
     "execution_count": 6,
     "metadata": {},
     "output_type": "execute_result"
    },
    {
     "data": {
      "image/png": "[encoded data removed]",
      "text/plain": [
       "<Figure size 504x504 with 1 Axes>"
      ]
     },
     "metadata": {
      "needs_background": "light"
     },
     "output_type": "display_data"
    }
   ],
   "source": [
    "plt.figure(figsize = (7,7))\n",
    "sns.countplot(x = 'Periodo' , data = cmp)"
   ]
  },
  {
   "cell_type": "code",
   "execution_count": 7,
   "metadata": {},
   "outputs": [
    {
     "data": {
      "text/plain": [
       "<matplotlib.axes._subplots.AxesSubplot at 0x20a96389a90>"
      ]
     },
     "execution_count": 7,
     "metadata": {},
     "output_type": "execute_result"
    },
    {
     "data": {
      "image/png": "[encoded data removed]",
      "text/plain": [
       "<Figure size 288x288 with 1 Axes>"
      ]
     },
     "metadata": {
      "needs_background": "light"
     },
     "output_type": "display_data"
    }
   ],
   "source": [
    "plt.figure(figsize = (4,4))\n",
    "sns.countplot(x = 'Resultado' , data = cmp)"
   ]
  },
  {
   "cell_type": "markdown",
   "metadata": {},
   "source": [
    "# Limpieza Campaña"
   ]
  },
  {
   "cell_type": "code",
   "execution_count": 8,
   "metadata": {},
   "outputs": [],
   "source": [
    "cmp2 = cmp.copy()"
   ]
  },
  {
   "cell_type": "code",
   "execution_count": 9,
   "metadata": {},
   "outputs": [],
   "source": [
    "prod = CategoricalConverter(cmp2['Producto-Tipo'])\n",
    "canal = CategoricalConverter(cmp2['Canal'])\n",
    "cmpnew2 = pd.concat([cmp2,prod, canal], axis=1, sort=False)\n",
    "cmpnew2.drop(['Producto-Tipo' , 'Fecha_Campaña' , 'Canal' , 'Duracion_Campaña' , 'C'] , axis = 1 , inplace = True)\n",
    "cmpnew2 = cmpnew2.rename(columns = {'A-A': 'CampAA' ,\n",
    "                                  'B-B': 'CampBB',\n",
    "                                  'C-D': 'CampCD' ,\n",
    "                                  'D-E': 'CampDE',\n",
    "                                  'B':'Canal'})"
   ]
  },
  {
   "cell_type": "code",
   "execution_count": 10,
   "metadata": {},
   "outputs": [
    {
     "data": {
      "text/html": [
       "<div>\n",
       "<style scoped>\n",
       "    .dataframe tbody tr th:only-of-type {\n",
       "        vertical-align: middle;\n",
       "    }\n",
       "\n",
       "    .dataframe tbody tr th {\n",
       "        vertical-align: top;\n",
       "    }\n",
       "\n",
       "    .dataframe thead th {\n",
       "        text-align: right;\n",
       "    }\n",
       "</style>\n",
       "<table border=\"1\" class=\"dataframe\">\n",
       "  <thead>\n",
       "    <tr style=\"text-align: right;\">\n",
       "      <th></th>\n",
       "      <th>id</th>\n",
       "      <th>Periodo</th>\n",
       "      <th>Resultado</th>\n",
       "      <th>CampAA</th>\n",
       "      <th>CampBB</th>\n",
       "      <th>CampCD</th>\n",
       "      <th>CampDE</th>\n",
       "      <th>Canal</th>\n",
       "    </tr>\n",
       "  </thead>\n",
       "  <tbody>\n",
       "    <tr>\n",
       "      <th>0</th>\n",
       "      <td>1</td>\n",
       "      <td>202001</td>\n",
       "      <td>0</td>\n",
       "      <td>1.0</td>\n",
       "      <td>0.0</td>\n",
       "      <td>0.0</td>\n",
       "      <td>0.0</td>\n",
       "      <td>1.0</td>\n",
       "    </tr>\n",
       "    <tr>\n",
       "      <th>1</th>\n",
       "      <td>1</td>\n",
       "      <td>202001</td>\n",
       "      <td>0</td>\n",
       "      <td>0.0</td>\n",
       "      <td>1.0</td>\n",
       "      <td>0.0</td>\n",
       "      <td>0.0</td>\n",
       "      <td>0.0</td>\n",
       "    </tr>\n",
       "    <tr>\n",
       "      <th>2</th>\n",
       "      <td>1</td>\n",
       "      <td>202002</td>\n",
       "      <td>0</td>\n",
       "      <td>1.0</td>\n",
       "      <td>0.0</td>\n",
       "      <td>0.0</td>\n",
       "      <td>0.0</td>\n",
       "      <td>1.0</td>\n",
       "    </tr>\n",
       "    <tr>\n",
       "      <th>3</th>\n",
       "      <td>1</td>\n",
       "      <td>202002</td>\n",
       "      <td>0</td>\n",
       "      <td>0.0</td>\n",
       "      <td>1.0</td>\n",
       "      <td>0.0</td>\n",
       "      <td>0.0</td>\n",
       "      <td>0.0</td>\n",
       "    </tr>\n",
       "    <tr>\n",
       "      <th>4</th>\n",
       "      <td>1</td>\n",
       "      <td>202003</td>\n",
       "      <td>0</td>\n",
       "      <td>1.0</td>\n",
       "      <td>0.0</td>\n",
       "      <td>0.0</td>\n",
       "      <td>0.0</td>\n",
       "      <td>1.0</td>\n",
       "    </tr>\n",
       "  </tbody>\n",
       "</table>\n",
       "</div>"
      ],
      "text/plain": [
       "   id  Periodo  Resultado  CampAA  CampBB  CampCD  CampDE  Canal\n",
       "0   1   202001          0     1.0     0.0     0.0     0.0    1.0\n",
       "1   1   202001          0     0.0     1.0     0.0     0.0    0.0\n",
       "2   1   202002          0     1.0     0.0     0.0     0.0    1.0\n",
       "3   1   202002          0     0.0     1.0     0.0     0.0    0.0\n",
       "4   1   202003          0     1.0     0.0     0.0     0.0    1.0"
      ]
     },
     "execution_count": 10,
     "metadata": {},
     "output_type": "execute_result"
    }
   ],
   "source": [
    "cmpnew2.head()"
   ]
  },
  {
   "cell_type": "code",
   "execution_count": 11,
   "metadata": {},
   "outputs": [],
   "source": [
    "cmpnew2 = cmpnew2.groupby(['id' , 'Periodo']).sum()"
   ]
  },
  {
   "cell_type": "code",
   "execution_count": 12,
   "metadata": {},
   "outputs": [],
   "source": [
    "cmpnew2.reset_index(inplace = True)"
   ]
  },
  {
   "cell_type": "code",
   "execution_count": 13,
   "metadata": {},
   "outputs": [],
   "source": [
    "cmpnew2['Key'] = cmpnew2['id'].apply(str) + \"-\" + cmpnew2['Periodo'].apply(str)"
   ]
  },
  {
   "cell_type": "code",
   "execution_count": 14,
   "metadata": {},
   "outputs": [
    {
     "data": {
      "text/html": [
       "<div>\n",
       "<style scoped>\n",
       "    .dataframe tbody tr th:only-of-type {\n",
       "        vertical-align: middle;\n",
       "    }\n",
       "\n",
       "    .dataframe tbody tr th {\n",
       "        vertical-align: top;\n",
       "    }\n",
       "\n",
       "    .dataframe thead th {\n",
       "        text-align: right;\n",
       "    }\n",
       "</style>\n",
       "<table border=\"1\" class=\"dataframe\">\n",
       "  <thead>\n",
       "    <tr style=\"text-align: right;\">\n",
       "      <th></th>\n",
       "      <th>id</th>\n",
       "      <th>Periodo</th>\n",
       "      <th>Resultado</th>\n",
       "      <th>CampAA</th>\n",
       "      <th>CampBB</th>\n",
       "      <th>CampCD</th>\n",
       "      <th>CampDE</th>\n",
       "      <th>Canal</th>\n",
       "      <th>Key</th>\n",
       "    </tr>\n",
       "  </thead>\n",
       "  <tbody>\n",
       "    <tr>\n",
       "      <th>0</th>\n",
       "      <td>1</td>\n",
       "      <td>202001</td>\n",
       "      <td>0</td>\n",
       "      <td>1.0</td>\n",
       "      <td>1.0</td>\n",
       "      <td>0.0</td>\n",
       "      <td>0.0</td>\n",
       "      <td>1.0</td>\n",
       "      <td>1-202001</td>\n",
       "    </tr>\n",
       "    <tr>\n",
       "      <th>1</th>\n",
       "      <td>1</td>\n",
       "      <td>202002</td>\n",
       "      <td>0</td>\n",
       "      <td>1.0</td>\n",
       "      <td>1.0</td>\n",
       "      <td>0.0</td>\n",
       "      <td>0.0</td>\n",
       "      <td>1.0</td>\n",
       "      <td>1-202002</td>\n",
       "    </tr>\n",
       "    <tr>\n",
       "      <th>2</th>\n",
       "      <td>1</td>\n",
       "      <td>202003</td>\n",
       "      <td>0</td>\n",
       "      <td>1.0</td>\n",
       "      <td>0.0</td>\n",
       "      <td>0.0</td>\n",
       "      <td>0.0</td>\n",
       "      <td>1.0</td>\n",
       "      <td>1-202003</td>\n",
       "    </tr>\n",
       "    <tr>\n",
       "      <th>3</th>\n",
       "      <td>1</td>\n",
       "      <td>202004</td>\n",
       "      <td>0</td>\n",
       "      <td>0.0</td>\n",
       "      <td>1.0</td>\n",
       "      <td>0.0</td>\n",
       "      <td>0.0</td>\n",
       "      <td>0.0</td>\n",
       "      <td>1-202004</td>\n",
       "    </tr>\n",
       "    <tr>\n",
       "      <th>4</th>\n",
       "      <td>1</td>\n",
       "      <td>202006</td>\n",
       "      <td>0</td>\n",
       "      <td>0.0</td>\n",
       "      <td>1.0</td>\n",
       "      <td>0.0</td>\n",
       "      <td>0.0</td>\n",
       "      <td>0.0</td>\n",
       "      <td>1-202006</td>\n",
       "    </tr>\n",
       "    <tr>\n",
       "      <th>...</th>\n",
       "      <td>...</td>\n",
       "      <td>...</td>\n",
       "      <td>...</td>\n",
       "      <td>...</td>\n",
       "      <td>...</td>\n",
       "      <td>...</td>\n",
       "      <td>...</td>\n",
       "      <td>...</td>\n",
       "      <td>...</td>\n",
       "    </tr>\n",
       "    <tr>\n",
       "      <th>360478</th>\n",
       "      <td>79539</td>\n",
       "      <td>202001</td>\n",
       "      <td>0</td>\n",
       "      <td>1.0</td>\n",
       "      <td>1.0</td>\n",
       "      <td>0.0</td>\n",
       "      <td>0.0</td>\n",
       "      <td>1.0</td>\n",
       "      <td>79539-202001</td>\n",
       "    </tr>\n",
       "    <tr>\n",
       "      <th>360479</th>\n",
       "      <td>79539</td>\n",
       "      <td>202002</td>\n",
       "      <td>0</td>\n",
       "      <td>1.0</td>\n",
       "      <td>0.0</td>\n",
       "      <td>0.0</td>\n",
       "      <td>0.0</td>\n",
       "      <td>1.0</td>\n",
       "      <td>79539-202002</td>\n",
       "    </tr>\n",
       "    <tr>\n",
       "      <th>360480</th>\n",
       "      <td>79539</td>\n",
       "      <td>202003</td>\n",
       "      <td>0</td>\n",
       "      <td>1.0</td>\n",
       "      <td>0.0</td>\n",
       "      <td>0.0</td>\n",
       "      <td>0.0</td>\n",
       "      <td>1.0</td>\n",
       "      <td>79539-202003</td>\n",
       "    </tr>\n",
       "    <tr>\n",
       "      <th>360481</th>\n",
       "      <td>79539</td>\n",
       "      <td>202004</td>\n",
       "      <td>0</td>\n",
       "      <td>0.0</td>\n",
       "      <td>1.0</td>\n",
       "      <td>0.0</td>\n",
       "      <td>0.0</td>\n",
       "      <td>0.0</td>\n",
       "      <td>79539-202004</td>\n",
       "    </tr>\n",
       "    <tr>\n",
       "      <th>360482</th>\n",
       "      <td>79539</td>\n",
       "      <td>202007</td>\n",
       "      <td>0</td>\n",
       "      <td>1.0</td>\n",
       "      <td>0.0</td>\n",
       "      <td>1.0</td>\n",
       "      <td>0.0</td>\n",
       "      <td>1.0</td>\n",
       "      <td>79539-202007</td>\n",
       "    </tr>\n",
       "  </tbody>\n",
       "</table>\n",
       "<p>360483 rows × 9 columns</p>\n",
       "</div>"
      ],
      "text/plain": [
       "           id  Periodo  Resultado  CampAA  CampBB  CampCD  CampDE  Canal  \\\n",
       "0           1   202001          0     1.0     1.0     0.0     0.0    1.0   \n",
       "1           1   202002          0     1.0     1.0     0.0     0.0    1.0   \n",
       "2           1   202003          0     1.0     0.0     0.0     0.0    1.0   \n",
       "3           1   202004          0     0.0     1.0     0.0     0.0    0.0   \n",
       "4           1   202006          0     0.0     1.0     0.0     0.0    0.0   \n",
       "...       ...      ...        ...     ...     ...     ...     ...    ...   \n",
       "360478  79539   202001          0     1.0     1.0     0.0     0.0    1.0   \n",
       "360479  79539   202002          0     1.0     0.0     0.0     0.0    1.0   \n",
       "360480  79539   202003          0     1.0     0.0     0.0     0.0    1.0   \n",
       "360481  79539   202004          0     0.0     1.0     0.0     0.0    0.0   \n",
       "360482  79539   202007          0     1.0     0.0     1.0     0.0    1.0   \n",
       "\n",
       "                 Key  \n",
       "0           1-202001  \n",
       "1           1-202002  \n",
       "2           1-202003  \n",
       "3           1-202004  \n",
       "4           1-202006  \n",
       "...              ...  \n",
       "360478  79539-202001  \n",
       "360479  79539-202002  \n",
       "360480  79539-202003  \n",
       "360481  79539-202004  \n",
       "360482  79539-202007  \n",
       "\n",
       "[360483 rows x 9 columns]"
      ]
     },
     "execution_count": 14,
     "metadata": {},
     "output_type": "execute_result"
    }
   ],
   "source": [
    "cmpnew2"
   ]
  },
  {
   "cell_type": "code",
   "execution_count": 15,
   "metadata": {},
   "outputs": [],
   "source": [
    "#cmpnew2.to_pickle('CampanaTraining.pkl')"
   ]
  },
  {
   "cell_type": "markdown",
   "metadata": {},
   "source": [
    "# Comunicaciones"
   ]
  },
  {
   "cell_type": "code",
   "execution_count": 3,
   "metadata": {},
   "outputs": [],
   "source": [
    "com = pd.read_csv('../Test Data/Comunicaciones_test.csv')\n",
    "com.drop(['Unnamed: 0' , 'Id_Producto' , 'Tipo'] , axis = 1 , inplace = True)"
   ]
  },
  {
   "cell_type": "code",
   "execution_count": 4,
   "metadata": {},
   "outputs": [
    {
     "data": {
      "text/plain": [
       "<matplotlib.axes._subplots.AxesSubplot at 0x2692a59d3a0>"
      ]
     },
     "execution_count": 4,
     "metadata": {},
     "output_type": "execute_result"
    },
    {
     "data": {
      "image/png": "[encoded data removed]",
      "text/plain": [
       "<Figure size 432x288 with 1 Axes>"
      ]
     },
     "metadata": {
      "needs_background": "light"
     },
     "output_type": "display_data"
    }
   ],
   "source": [
    "sns.countplot(x = 'Producto-Tipo' , data = com)"
   ]
  },
  {
   "cell_type": "code",
   "execution_count": 5,
   "metadata": {},
   "outputs": [
    {
     "data": {
      "text/plain": [
       "<matplotlib.axes._subplots.AxesSubplot at 0x2692b353fa0>"
      ]
     },
     "execution_count": 5,
     "metadata": {},
     "output_type": "execute_result"
    },
    {
     "data": {
      "image/png": "[encoded data removed]",
      "text/plain": [
       "<Figure size 432x288 with 1 Axes>"
      ]
     },
     "metadata": {
      "needs_background": "light"
     },
     "output_type": "display_data"
    }
   ],
   "source": [
    "sns.countplot(x = 'Lectura' , data = com)"
   ]
  },
  {
   "cell_type": "code",
   "execution_count": 6,
   "metadata": {},
   "outputs": [
    {
     "data": {
      "text/plain": [
       "<matplotlib.axes._subplots.AxesSubplot at 0x2692b3ac400>"
      ]
     },
     "execution_count": 6,
     "metadata": {},
     "output_type": "execute_result"
    },
    {
     "data": {
      "image/png": "[encoded data removed]",
      "text/plain": [
       "<Figure size 432x288 with 1 Axes>"
      ]
     },
     "metadata": {
      "needs_background": "light"
     },
     "output_type": "display_data"
    }
   ],
   "source": [
    "sns.countplot(x = 'Tipo_comunicacion' , data = com) # Borrar tipo Comunicacion"
   ]
  },
  {
   "cell_type": "code",
   "execution_count": 7,
   "metadata": {},
   "outputs": [
    {
     "data": {
      "text/html": [
       "<div>\n",
       "<style scoped>\n",
       "    .dataframe tbody tr th:only-of-type {\n",
       "        vertical-align: middle;\n",
       "    }\n",
       "\n",
       "    .dataframe tbody tr th {\n",
       "        vertical-align: top;\n",
       "    }\n",
       "\n",
       "    .dataframe thead th {\n",
       "        text-align: right;\n",
       "    }\n",
       "</style>\n",
       "<table border=\"1\" class=\"dataframe\">\n",
       "  <thead>\n",
       "    <tr style=\"text-align: right;\">\n",
       "      <th></th>\n",
       "      <th>id</th>\n",
       "      <th>Producto-Tipo</th>\n",
       "      <th>Tipo_comunicacion</th>\n",
       "      <th>Fecha</th>\n",
       "      <th>Periodo</th>\n",
       "      <th>Lectura</th>\n",
       "    </tr>\n",
       "  </thead>\n",
       "  <tbody>\n",
       "    <tr>\n",
       "      <th>0</th>\n",
       "      <td>1</td>\n",
       "      <td>B-B</td>\n",
       "      <td>A</td>\n",
       "      <td>2020-08-07</td>\n",
       "      <td>202008</td>\n",
       "      <td>1</td>\n",
       "    </tr>\n",
       "    <tr>\n",
       "      <th>1</th>\n",
       "      <td>1</td>\n",
       "      <td>B-B</td>\n",
       "      <td>A</td>\n",
       "      <td>2020-08-27</td>\n",
       "      <td>202008</td>\n",
       "      <td>1</td>\n",
       "    </tr>\n",
       "  </tbody>\n",
       "</table>\n",
       "</div>"
      ],
      "text/plain": [
       "   id Producto-Tipo Tipo_comunicacion       Fecha  Periodo  Lectura\n",
       "0   1           B-B                 A  2020-08-07   202008        1\n",
       "1   1           B-B                 A  2020-08-27   202008        1"
      ]
     },
     "execution_count": 7,
     "metadata": {},
     "output_type": "execute_result"
    }
   ],
   "source": [
    "com.head(2)"
   ]
  },
  {
   "cell_type": "markdown",
   "metadata": {},
   "source": [
    "# Limpieza Comunicaciones"
   ]
  },
  {
   "cell_type": "code",
   "execution_count": 8,
   "metadata": {},
   "outputs": [],
   "source": [
    "com2 = com.copy()"
   ]
  },
  {
   "cell_type": "code",
   "execution_count": 9,
   "metadata": {},
   "outputs": [],
   "source": [
    "prod = CategoricalConverter(com['Producto-Tipo'])\n",
    "comnew2 = pd.concat([com2 ,prod], axis=1, sort=False)\n",
    "comnew2.drop(['Producto-Tipo' , 'Tipo_comunicacion' , 'Fecha'] , axis = 1 , inplace = True)\n",
    "comnew2 = comnew2.rename(columns = {'A-A': 'ComAA' ,\n",
    "                                  'B-B': 'ComBB',\n",
    "                                  'C-D': 'ComCD' ,\n",
    "                                  'D-E': 'ComDE',\n",
    "                                  'E-E' : 'ComEE'})\n",
    "comnew2 = comnew2.groupby(['id' , 'Periodo']).sum()\n",
    "comnew2.reset_index(inplace = True)"
   ]
  },
  {
   "cell_type": "code",
   "execution_count": 10,
   "metadata": {},
   "outputs": [
    {
     "data": {
      "text/html": [
       "<div>\n",
       "<style scoped>\n",
       "    .dataframe tbody tr th:only-of-type {\n",
       "        vertical-align: middle;\n",
       "    }\n",
       "\n",
       "    .dataframe tbody tr th {\n",
       "        vertical-align: top;\n",
       "    }\n",
       "\n",
       "    .dataframe thead th {\n",
       "        text-align: right;\n",
       "    }\n",
       "</style>\n",
       "<table border=\"1\" class=\"dataframe\">\n",
       "  <thead>\n",
       "    <tr style=\"text-align: right;\">\n",
       "      <th></th>\n",
       "      <th>id</th>\n",
       "      <th>Periodo</th>\n",
       "      <th>Lectura</th>\n",
       "      <th>ComAA</th>\n",
       "      <th>ComBB</th>\n",
       "      <th>ComCD</th>\n",
       "    </tr>\n",
       "  </thead>\n",
       "  <tbody>\n",
       "    <tr>\n",
       "      <th>0</th>\n",
       "      <td>1</td>\n",
       "      <td>202008</td>\n",
       "      <td>2</td>\n",
       "      <td>0.0</td>\n",
       "      <td>2.0</td>\n",
       "      <td>0.0</td>\n",
       "    </tr>\n",
       "    <tr>\n",
       "      <th>1</th>\n",
       "      <td>1</td>\n",
       "      <td>202009</td>\n",
       "      <td>0</td>\n",
       "      <td>0.0</td>\n",
       "      <td>1.0</td>\n",
       "      <td>0.0</td>\n",
       "    </tr>\n",
       "    <tr>\n",
       "      <th>2</th>\n",
       "      <td>1</td>\n",
       "      <td>202010</td>\n",
       "      <td>1</td>\n",
       "      <td>0.0</td>\n",
       "      <td>2.0</td>\n",
       "      <td>0.0</td>\n",
       "    </tr>\n",
       "    <tr>\n",
       "      <th>3</th>\n",
       "      <td>2</td>\n",
       "      <td>202008</td>\n",
       "      <td>1</td>\n",
       "      <td>0.0</td>\n",
       "      <td>0.0</td>\n",
       "      <td>1.0</td>\n",
       "    </tr>\n",
       "    <tr>\n",
       "      <th>4</th>\n",
       "      <td>2</td>\n",
       "      <td>202009</td>\n",
       "      <td>1</td>\n",
       "      <td>0.0</td>\n",
       "      <td>0.0</td>\n",
       "      <td>1.0</td>\n",
       "    </tr>\n",
       "  </tbody>\n",
       "</table>\n",
       "</div>"
      ],
      "text/plain": [
       "   id  Periodo  Lectura  ComAA  ComBB  ComCD\n",
       "0   1   202008        2    0.0    2.0    0.0\n",
       "1   1   202009        0    0.0    1.0    0.0\n",
       "2   1   202010        1    0.0    2.0    0.0\n",
       "3   2   202008        1    0.0    0.0    1.0\n",
       "4   2   202009        1    0.0    0.0    1.0"
      ]
     },
     "execution_count": 10,
     "metadata": {},
     "output_type": "execute_result"
    }
   ],
   "source": [
    "comnew2.head()"
   ]
  },
  {
   "cell_type": "code",
   "execution_count": 11,
   "metadata": {},
   "outputs": [],
   "source": [
    "comnew2id = comnew2['id']\n",
    "comnew2period = comnew2['Periodo']\n",
    "comnew2.drop(['id' , 'Periodo'] , axis = 1 , inplace = True)\n",
    "def test(x):\n",
    "    if x>0:\n",
    "        x = 1\n",
    "    else:\n",
    "        x = 0\n",
    "    return x\n",
    "for i in comnew2.columns.values:\n",
    "    comnew2[i] = comnew2[i].apply(test)\n",
    "comnew2['id'] = comnew2id\n",
    "comnew2['Periodo'] = comnew2period"
   ]
  },
  {
   "cell_type": "code",
   "execution_count": 12,
   "metadata": {},
   "outputs": [
    {
     "data": {
      "text/html": [
       "<div>\n",
       "<style scoped>\n",
       "    .dataframe tbody tr th:only-of-type {\n",
       "        vertical-align: middle;\n",
       "    }\n",
       "\n",
       "    .dataframe tbody tr th {\n",
       "        vertical-align: top;\n",
       "    }\n",
       "\n",
       "    .dataframe thead th {\n",
       "        text-align: right;\n",
       "    }\n",
       "</style>\n",
       "<table border=\"1\" class=\"dataframe\">\n",
       "  <thead>\n",
       "    <tr style=\"text-align: right;\">\n",
       "      <th></th>\n",
       "      <th>Lectura</th>\n",
       "      <th>ComAA</th>\n",
       "      <th>ComBB</th>\n",
       "      <th>ComCD</th>\n",
       "      <th>id</th>\n",
       "      <th>Periodo</th>\n",
       "    </tr>\n",
       "  </thead>\n",
       "  <tbody>\n",
       "    <tr>\n",
       "      <th>0</th>\n",
       "      <td>1</td>\n",
       "      <td>0</td>\n",
       "      <td>1</td>\n",
       "      <td>0</td>\n",
       "      <td>1</td>\n",
       "      <td>202008</td>\n",
       "    </tr>\n",
       "    <tr>\n",
       "      <th>1</th>\n",
       "      <td>0</td>\n",
       "      <td>0</td>\n",
       "      <td>1</td>\n",
       "      <td>0</td>\n",
       "      <td>1</td>\n",
       "      <td>202009</td>\n",
       "    </tr>\n",
       "    <tr>\n",
       "      <th>2</th>\n",
       "      <td>1</td>\n",
       "      <td>0</td>\n",
       "      <td>1</td>\n",
       "      <td>0</td>\n",
       "      <td>1</td>\n",
       "      <td>202010</td>\n",
       "    </tr>\n",
       "    <tr>\n",
       "      <th>3</th>\n",
       "      <td>1</td>\n",
       "      <td>0</td>\n",
       "      <td>0</td>\n",
       "      <td>1</td>\n",
       "      <td>2</td>\n",
       "      <td>202008</td>\n",
       "    </tr>\n",
       "    <tr>\n",
       "      <th>4</th>\n",
       "      <td>1</td>\n",
       "      <td>0</td>\n",
       "      <td>0</td>\n",
       "      <td>1</td>\n",
       "      <td>2</td>\n",
       "      <td>202009</td>\n",
       "    </tr>\n",
       "  </tbody>\n",
       "</table>\n",
       "</div>"
      ],
      "text/plain": [
       "   Lectura  ComAA  ComBB  ComCD  id  Periodo\n",
       "0        1      0      1      0   1   202008\n",
       "1        0      0      1      0   1   202009\n",
       "2        1      0      1      0   1   202010\n",
       "3        1      0      0      1   2   202008\n",
       "4        1      0      0      1   2   202009"
      ]
     },
     "execution_count": 12,
     "metadata": {},
     "output_type": "execute_result"
    }
   ],
   "source": [
    "comnew2.head()"
   ]
  },
  {
   "cell_type": "code",
   "execution_count": 13,
   "metadata": {},
   "outputs": [],
   "source": [
    "comnew2 = comnew2.groupby('id').sum()"
   ]
  },
  {
   "cell_type": "code",
   "execution_count": 14,
   "metadata": {},
   "outputs": [],
   "source": [
    "comnew2.drop('Periodo' , axis = 1 , inplace = True)"
   ]
  },
  {
   "cell_type": "code",
   "execution_count": 15,
   "metadata": {},
   "outputs": [],
   "source": [
    "for i in comnew2.columns.values:\n",
    "    comnew2[i] = comnew2[i].apply(OneZero)"
   ]
  },
  {
   "cell_type": "code",
   "execution_count": 16,
   "metadata": {},
   "outputs": [],
   "source": [
    "comnew2.reset_index(inplace = True)"
   ]
  },
  {
   "cell_type": "code",
   "execution_count": 17,
   "metadata": {},
   "outputs": [
    {
     "data": {
      "text/html": [
       "<div>\n",
       "<style scoped>\n",
       "    .dataframe tbody tr th:only-of-type {\n",
       "        vertical-align: middle;\n",
       "    }\n",
       "\n",
       "    .dataframe tbody tr th {\n",
       "        vertical-align: top;\n",
       "    }\n",
       "\n",
       "    .dataframe thead th {\n",
       "        text-align: right;\n",
       "    }\n",
       "</style>\n",
       "<table border=\"1\" class=\"dataframe\">\n",
       "  <thead>\n",
       "    <tr style=\"text-align: right;\">\n",
       "      <th></th>\n",
       "      <th>id</th>\n",
       "      <th>Lectura</th>\n",
       "      <th>ComAA</th>\n",
       "      <th>ComBB</th>\n",
       "      <th>ComCD</th>\n",
       "    </tr>\n",
       "  </thead>\n",
       "  <tbody>\n",
       "    <tr>\n",
       "      <th>0</th>\n",
       "      <td>1</td>\n",
       "      <td>1</td>\n",
       "      <td>0</td>\n",
       "      <td>1</td>\n",
       "      <td>0</td>\n",
       "    </tr>\n",
       "    <tr>\n",
       "      <th>1</th>\n",
       "      <td>2</td>\n",
       "      <td>1</td>\n",
       "      <td>0</td>\n",
       "      <td>1</td>\n",
       "      <td>1</td>\n",
       "    </tr>\n",
       "    <tr>\n",
       "      <th>2</th>\n",
       "      <td>3</td>\n",
       "      <td>1</td>\n",
       "      <td>0</td>\n",
       "      <td>1</td>\n",
       "      <td>0</td>\n",
       "    </tr>\n",
       "    <tr>\n",
       "      <th>3</th>\n",
       "      <td>4</td>\n",
       "      <td>1</td>\n",
       "      <td>0</td>\n",
       "      <td>0</td>\n",
       "      <td>1</td>\n",
       "    </tr>\n",
       "    <tr>\n",
       "      <th>4</th>\n",
       "      <td>5</td>\n",
       "      <td>1</td>\n",
       "      <td>0</td>\n",
       "      <td>1</td>\n",
       "      <td>0</td>\n",
       "    </tr>\n",
       "    <tr>\n",
       "      <th>...</th>\n",
       "      <td>...</td>\n",
       "      <td>...</td>\n",
       "      <td>...</td>\n",
       "      <td>...</td>\n",
       "      <td>...</td>\n",
       "    </tr>\n",
       "    <tr>\n",
       "      <th>64301</th>\n",
       "      <td>79535</td>\n",
       "      <td>1</td>\n",
       "      <td>0</td>\n",
       "      <td>1</td>\n",
       "      <td>0</td>\n",
       "    </tr>\n",
       "    <tr>\n",
       "      <th>64302</th>\n",
       "      <td>79536</td>\n",
       "      <td>0</td>\n",
       "      <td>0</td>\n",
       "      <td>1</td>\n",
       "      <td>0</td>\n",
       "    </tr>\n",
       "    <tr>\n",
       "      <th>64303</th>\n",
       "      <td>79537</td>\n",
       "      <td>0</td>\n",
       "      <td>0</td>\n",
       "      <td>1</td>\n",
       "      <td>1</td>\n",
       "    </tr>\n",
       "    <tr>\n",
       "      <th>64304</th>\n",
       "      <td>79538</td>\n",
       "      <td>1</td>\n",
       "      <td>0</td>\n",
       "      <td>1</td>\n",
       "      <td>0</td>\n",
       "    </tr>\n",
       "    <tr>\n",
       "      <th>64305</th>\n",
       "      <td>79539</td>\n",
       "      <td>1</td>\n",
       "      <td>0</td>\n",
       "      <td>1</td>\n",
       "      <td>1</td>\n",
       "    </tr>\n",
       "  </tbody>\n",
       "</table>\n",
       "<p>64306 rows × 5 columns</p>\n",
       "</div>"
      ],
      "text/plain": [
       "          id  Lectura  ComAA  ComBB  ComCD\n",
       "0          1        1      0      1      0\n",
       "1          2        1      0      1      1\n",
       "2          3        1      0      1      0\n",
       "3          4        1      0      0      1\n",
       "4          5        1      0      1      0\n",
       "...      ...      ...    ...    ...    ...\n",
       "64301  79535        1      0      1      0\n",
       "64302  79536        0      0      1      0\n",
       "64303  79537        0      0      1      1\n",
       "64304  79538        1      0      1      0\n",
       "64305  79539        1      0      1      1\n",
       "\n",
       "[64306 rows x 5 columns]"
      ]
     },
     "execution_count": 17,
     "metadata": {},
     "output_type": "execute_result"
    }
   ],
   "source": [
    "comnew2"
   ]
  },
  {
   "cell_type": "code",
   "execution_count": 18,
   "metadata": {},
   "outputs": [],
   "source": [
    "comnew2.to_pickle('ComunicacionesTestGlobal.pkl')"
   ]
  },
  {
   "cell_type": "markdown",
   "metadata": {},
   "source": [
    "# Consumidores"
   ]
  },
  {
   "cell_type": "code",
   "execution_count": 71,
   "metadata": {},
   "outputs": [],
   "source": [
    "csm = pd.read_csv('../Bases/Consumidores.csv')\n",
    "csm.drop('Unnamed: 0' , axis = 1 , inplace = True)"
   ]
  },
  {
   "cell_type": "code",
   "execution_count": 72,
   "metadata": {},
   "outputs": [
    {
     "data": {
      "text/html": [
       "<div>\n",
       "<style scoped>\n",
       "    .dataframe tbody tr th:only-of-type {\n",
       "        vertical-align: middle;\n",
       "    }\n",
       "\n",
       "    .dataframe tbody tr th {\n",
       "        vertical-align: top;\n",
       "    }\n",
       "\n",
       "    .dataframe thead th {\n",
       "        text-align: right;\n",
       "    }\n",
       "</style>\n",
       "<table border=\"1\" class=\"dataframe\">\n",
       "  <thead>\n",
       "    <tr style=\"text-align: right;\">\n",
       "      <th></th>\n",
       "      <th>Edad</th>\n",
       "      <th>Sexo</th>\n",
       "      <th>Renta</th>\n",
       "      <th>Recibe_sueldo_en_cuenta</th>\n",
       "      <th>Segmento_consumidor</th>\n",
       "      <th>Meses_antiguedad</th>\n",
       "      <th>Comuna</th>\n",
       "      <th>Ciudad</th>\n",
       "      <th>Estado_civil</th>\n",
       "      <th>Principalidad</th>\n",
       "      <th>Profesion</th>\n",
       "      <th>id</th>\n",
       "    </tr>\n",
       "  </thead>\n",
       "  <tbody>\n",
       "    <tr>\n",
       "      <th>0</th>\n",
       "      <td>Mayor a 70</td>\n",
       "      <td>1</td>\n",
       "      <td>R1</td>\n",
       "      <td>0</td>\n",
       "      <td>A</td>\n",
       "      <td>Mayor a 10 años</td>\n",
       "      <td>331.0</td>\n",
       "      <td>13.0</td>\n",
       "      <td>D</td>\n",
       "      <td>B</td>\n",
       "      <td>P164</td>\n",
       "      <td>1</td>\n",
       "    </tr>\n",
       "    <tr>\n",
       "      <th>1</th>\n",
       "      <td>Mayor a 70</td>\n",
       "      <td>1</td>\n",
       "      <td>R9</td>\n",
       "      <td>0</td>\n",
       "      <td>B</td>\n",
       "      <td>Mayor a 10 años</td>\n",
       "      <td>37.0</td>\n",
       "      <td>5.0</td>\n",
       "      <td>D</td>\n",
       "      <td>E</td>\n",
       "      <td>P164</td>\n",
       "      <td>2</td>\n",
       "    </tr>\n",
       "    <tr>\n",
       "      <th>2</th>\n",
       "      <td>Mayor a 70</td>\n",
       "      <td>1</td>\n",
       "      <td>R9</td>\n",
       "      <td>1</td>\n",
       "      <td>B</td>\n",
       "      <td>Mayor a 10 años</td>\n",
       "      <td>19.0</td>\n",
       "      <td>4.0</td>\n",
       "      <td>B</td>\n",
       "      <td>D</td>\n",
       "      <td>P114</td>\n",
       "      <td>3</td>\n",
       "    </tr>\n",
       "    <tr>\n",
       "      <th>3</th>\n",
       "      <td>Mayor a 70</td>\n",
       "      <td>1</td>\n",
       "      <td>R10</td>\n",
       "      <td>0</td>\n",
       "      <td>B</td>\n",
       "      <td>Mayor a 10 años</td>\n",
       "      <td>37.0</td>\n",
       "      <td>5.0</td>\n",
       "      <td>B</td>\n",
       "      <td>C</td>\n",
       "      <td>P164</td>\n",
       "      <td>4</td>\n",
       "    </tr>\n",
       "    <tr>\n",
       "      <th>4</th>\n",
       "      <td>Mayor a 70</td>\n",
       "      <td>1</td>\n",
       "      <td>R4</td>\n",
       "      <td>0</td>\n",
       "      <td>A</td>\n",
       "      <td>Mayor a 10 años</td>\n",
       "      <td>91.0</td>\n",
       "      <td>13.0</td>\n",
       "      <td>D</td>\n",
       "      <td>B</td>\n",
       "      <td>P85</td>\n",
       "      <td>5</td>\n",
       "    </tr>\n",
       "  </tbody>\n",
       "</table>\n",
       "</div>"
      ],
      "text/plain": [
       "         Edad  Sexo Renta  Recibe_sueldo_en_cuenta Segmento_consumidor  \\\n",
       "0  Mayor a 70     1    R1                        0                   A   \n",
       "1  Mayor a 70     1    R9                        0                   B   \n",
       "2  Mayor a 70     1    R9                        1                   B   \n",
       "3  Mayor a 70     1   R10                        0                   B   \n",
       "4  Mayor a 70     1    R4                        0                   A   \n",
       "\n",
       "  Meses_antiguedad  Comuna  Ciudad Estado_civil Principalidad Profesion  id  \n",
       "0  Mayor a 10 años   331.0    13.0            D             B      P164   1  \n",
       "1  Mayor a 10 años    37.0     5.0            D             E      P164   2  \n",
       "2  Mayor a 10 años    19.0     4.0            B             D      P114   3  \n",
       "3  Mayor a 10 años    37.0     5.0            B             C      P164   4  \n",
       "4  Mayor a 10 años    91.0    13.0            D             B       P85   5  "
      ]
     },
     "execution_count": 72,
     "metadata": {},
     "output_type": "execute_result"
    }
   ],
   "source": [
    "csm.head()"
   ]
  },
  {
   "cell_type": "code",
   "execution_count": 74,
   "metadata": {},
   "outputs": [
    {
     "data": {
      "text/plain": [
       "[Text(0, 0, 'Mayor a 10 años'),\n",
       " Text(0, 0, 'Entre 9 y 10 años'),\n",
       " Text(0, 0, 'Entre 8 y 9 años'),\n",
       " Text(0, 0, 'Menos de 1 año'),\n",
       " Text(0, 0, 'Entre 2 y 3 años'),\n",
       " Text(0, 0, 'Entre 7 y 8 años'),\n",
       " Text(0, 0, 'Entre 5 y 6 años'),\n",
       " Text(0, 0, 'Entre 6 y 7 años'),\n",
       " Text(0, 0, 'Entre 3 y 4 años'),\n",
       " Text(0, 0, 'Entre 4 y 5 años'),\n",
       " Text(0, 0, 'Entre 1 y 2 años')]"
      ]
     },
     "execution_count": 74,
     "metadata": {},
     "output_type": "execute_result"
    },
    {
     "data": {
      "image/png": "[encoded data removed]",
      "text/plain": [
       "<Figure size 432x432 with 1 Axes>"
      ]
     },
     "metadata": {
      "needs_background": "light"
     },
     "output_type": "display_data"
    }
   ],
   "source": [
    "plt.figure(figsize = (6,6))\n",
    "chart = sns.countplot(x = 'Meses_antiguedad' , data = csm) # NO USAR\n",
    "chart.set_xticklabels(chart.get_xticklabels(), rotation=45)"
   ]
  },
  {
   "cell_type": "code",
   "execution_count": 75,
   "metadata": {},
   "outputs": [
    {
     "data": {
      "text/plain": [
       "[Text(0, 0, 'Mayor a 70'),\n",
       " Text(0, 0, 'Entre 65 y 70'),\n",
       " Text(0, 0, 'Entre 55 y 60'),\n",
       " Text(0, 0, 'Entre 60 y 65'),\n",
       " Text(0, 0, 'Entre 50 y 55'),\n",
       " Text(0, 0, 'Menor a 25'),\n",
       " Text(0, 0, 'Entre 45 y 50'),\n",
       " Text(0, 0, 'Entre 25 y 30'),\n",
       " Text(0, 0, 'Entre 35 y 40'),\n",
       " Text(0, 0, 'Entre 40 y 45'),\n",
       " Text(0, 0, 'Entre 30 y 35')]"
      ]
     },
     "execution_count": 75,
     "metadata": {},
     "output_type": "execute_result"
    },
    {
     "data": {
      "image/png": "[encoded data removed]",
      "text/plain": [
       "<Figure size 432x432 with 1 Axes>"
      ]
     },
     "metadata": {
      "needs_background": "light"
     },
     "output_type": "display_data"
    }
   ],
   "source": [
    "plt.figure(figsize = (6,6))\n",
    "chart = sns.countplot(x = 'Edad' , data = csm)\n",
    "chart.set_xticklabels(chart.get_xticklabels(), rotation=45)"
   ]
  },
  {
   "cell_type": "code",
   "execution_count": 76,
   "metadata": {},
   "outputs": [
    {
     "data": {
      "text/plain": [
       "[Text(0, 0, 'R1'),\n",
       " Text(0, 0, 'R9'),\n",
       " Text(0, 0, 'R10'),\n",
       " Text(0, 0, 'R4'),\n",
       " Text(0, 0, 'R5'),\n",
       " Text(0, 0, 'R11'),\n",
       " Text(0, 0, 'R2'),\n",
       " Text(0, 0, 'R3'),\n",
       " Text(0, 0, 'R15'),\n",
       " Text(0, 0, 'R6'),\n",
       " Text(0, 0, 'R14'),\n",
       " Text(0, 0, 'R12'),\n",
       " Text(0, 0, 'R7'),\n",
       " Text(0, 0, 'R8'),\n",
       " Text(0, 0, 'R21'),\n",
       " Text(0, 0, 'R17'),\n",
       " Text(0, 0, 'R13'),\n",
       " Text(0, 0, 'R20'),\n",
       " Text(0, 0, 'R16'),\n",
       " Text(0, 0, 'R18'),\n",
       " Text(0, 0, 'R19')]"
      ]
     },
     "execution_count": 76,
     "metadata": {},
     "output_type": "execute_result"
    },
    {
     "data": {
      "image/png": "[encoded data removed]",
      "text/plain": [
       "<Figure size 432x432 with 1 Axes>"
      ]
     },
     "metadata": {
      "needs_background": "light"
     },
     "output_type": "display_data"
    }
   ],
   "source": [
    "plt.figure(figsize = (6,6))\n",
    "chart = sns.countplot(x = 'Renta' , data = csm)\n",
    "chart.set_xticklabels(chart.get_xticklabels(), rotation=45)"
   ]
  },
  {
   "cell_type": "code",
   "execution_count": 77,
   "metadata": {},
   "outputs": [
    {
     "data": {
      "text/plain": [
       "[Text(0, 0, '0'), Text(0, 0, '1')]"
      ]
     },
     "execution_count": 77,
     "metadata": {},
     "output_type": "execute_result"
    },
    {
     "data": {
      "image/png": "[encoded data removed]",
      "text/plain": [
       "<Figure size 432x432 with 1 Axes>"
      ]
     },
     "metadata": {
      "needs_background": "light"
     },
     "output_type": "display_data"
    }
   ],
   "source": [
    "plt.figure(figsize = (6,6))\n",
    "chart = sns.countplot(x = 'Recibe_sueldo_en_cuenta' , data = csm)\n",
    "chart.set_xticklabels(chart.get_xticklabels(), rotation=45)"
   ]
  },
  {
   "cell_type": "code",
   "execution_count": 78,
   "metadata": {},
   "outputs": [
    {
     "data": {
      "text/plain": [
       "[Text(0, 0, 'A'), Text(0, 0, 'B')]"
      ]
     },
     "execution_count": 78,
     "metadata": {},
     "output_type": "execute_result"
    },
    {
     "data": {
      "image/png": "[encoded data removed]",
      "text/plain": [
       "<Figure size 432x432 with 1 Axes>"
      ]
     },
     "metadata": {
      "needs_background": "light"
     },
     "output_type": "display_data"
    }
   ],
   "source": [
    "plt.figure(figsize = (6,6))\n",
    "chart = sns.countplot(x = 'Segmento_consumidor' , data = csm)\n",
    "chart.set_xticklabels(chart.get_xticklabels(), rotation=45)"
   ]
  },
  {
   "cell_type": "code",
   "execution_count": 79,
   "metadata": {},
   "outputs": [
    {
     "data": {
      "text/plain": [
       "[Text(0, 0, 'B'),\n",
       " Text(0, 0, 'E'),\n",
       " Text(0, 0, 'D'),\n",
       " Text(0, 0, 'C'),\n",
       " Text(0, 0, 'A'),\n",
       " Text(0, 0, 'F'),\n",
       " Text(0, 0, 'G')]"
      ]
     },
     "execution_count": 79,
     "metadata": {},
     "output_type": "execute_result"
    },
    {
     "data": {
      "image/png": "[encoded data removed]",
      "text/plain": [
       "<Figure size 432x432 with 1 Axes>"
      ]
     },
     "metadata": {
      "needs_background": "light"
     },
     "output_type": "display_data"
    }
   ],
   "source": [
    "plt.figure(figsize = (6,6))\n",
    "chart = sns.countplot(x = 'Principalidad' , data = csm)\n",
    "chart.set_xticklabels(chart.get_xticklabels(), rotation=45)"
   ]
  },
  {
   "cell_type": "code",
   "execution_count": 80,
   "metadata": {},
   "outputs": [],
   "source": [
    "csm2 = csm.copy()"
   ]
  },
  {
   "cell_type": "code",
   "execution_count": 84,
   "metadata": {},
   "outputs": [],
   "source": [
    "csm2.drop(['Meses_antiguedad' , 'Estado_civil' , 'Comuna' , 'Ciudad' ,'Estado_civil', 'Profesion' , 'Principalidad'] , axis = 1 , inplace = True)"
   ]
  },
  {
   "cell_type": "code",
   "execution_count": 85,
   "metadata": {},
   "outputs": [
    {
     "data": {
      "text/plain": [
       "Edad                       0\n",
       "Sexo                       0\n",
       "Renta                      0\n",
       "Recibe_sueldo_en_cuenta    0\n",
       "Segmento_consumidor        0\n",
       "id                         0\n",
       "dtype: int64"
      ]
     },
     "execution_count": 85,
     "metadata": {},
     "output_type": "execute_result"
    }
   ],
   "source": [
    "csm2.isnull().sum()"
   ]
  },
  {
   "cell_type": "code",
   "execution_count": 86,
   "metadata": {},
   "outputs": [
    {
     "data": {
      "text/html": [
       "<div>\n",
       "<style scoped>\n",
       "    .dataframe tbody tr th:only-of-type {\n",
       "        vertical-align: middle;\n",
       "    }\n",
       "\n",
       "    .dataframe tbody tr th {\n",
       "        vertical-align: top;\n",
       "    }\n",
       "\n",
       "    .dataframe thead th {\n",
       "        text-align: right;\n",
       "    }\n",
       "</style>\n",
       "<table border=\"1\" class=\"dataframe\">\n",
       "  <thead>\n",
       "    <tr style=\"text-align: right;\">\n",
       "      <th></th>\n",
       "      <th>Edad</th>\n",
       "      <th>Sexo</th>\n",
       "      <th>Renta</th>\n",
       "      <th>Recibe_sueldo_en_cuenta</th>\n",
       "      <th>Segmento_consumidor</th>\n",
       "      <th>id</th>\n",
       "    </tr>\n",
       "  </thead>\n",
       "  <tbody>\n",
       "    <tr>\n",
       "      <th>0</th>\n",
       "      <td>Mayor a 70</td>\n",
       "      <td>1</td>\n",
       "      <td>R1</td>\n",
       "      <td>0</td>\n",
       "      <td>A</td>\n",
       "      <td>1</td>\n",
       "    </tr>\n",
       "    <tr>\n",
       "      <th>1</th>\n",
       "      <td>Mayor a 70</td>\n",
       "      <td>1</td>\n",
       "      <td>R9</td>\n",
       "      <td>0</td>\n",
       "      <td>B</td>\n",
       "      <td>2</td>\n",
       "    </tr>\n",
       "    <tr>\n",
       "      <th>2</th>\n",
       "      <td>Mayor a 70</td>\n",
       "      <td>1</td>\n",
       "      <td>R9</td>\n",
       "      <td>1</td>\n",
       "      <td>B</td>\n",
       "      <td>3</td>\n",
       "    </tr>\n",
       "    <tr>\n",
       "      <th>3</th>\n",
       "      <td>Mayor a 70</td>\n",
       "      <td>1</td>\n",
       "      <td>R10</td>\n",
       "      <td>0</td>\n",
       "      <td>B</td>\n",
       "      <td>4</td>\n",
       "    </tr>\n",
       "    <tr>\n",
       "      <th>4</th>\n",
       "      <td>Mayor a 70</td>\n",
       "      <td>1</td>\n",
       "      <td>R4</td>\n",
       "      <td>0</td>\n",
       "      <td>A</td>\n",
       "      <td>5</td>\n",
       "    </tr>\n",
       "    <tr>\n",
       "      <th>...</th>\n",
       "      <td>...</td>\n",
       "      <td>...</td>\n",
       "      <td>...</td>\n",
       "      <td>...</td>\n",
       "      <td>...</td>\n",
       "      <td>...</td>\n",
       "    </tr>\n",
       "    <tr>\n",
       "      <th>79534</th>\n",
       "      <td>Entre 30 y 35</td>\n",
       "      <td>0</td>\n",
       "      <td>R2</td>\n",
       "      <td>0</td>\n",
       "      <td>A</td>\n",
       "      <td>79535</td>\n",
       "    </tr>\n",
       "    <tr>\n",
       "      <th>79535</th>\n",
       "      <td>Entre 35 y 40</td>\n",
       "      <td>0</td>\n",
       "      <td>R1</td>\n",
       "      <td>0</td>\n",
       "      <td>A</td>\n",
       "      <td>79536</td>\n",
       "    </tr>\n",
       "    <tr>\n",
       "      <th>79536</th>\n",
       "      <td>Entre 50 y 55</td>\n",
       "      <td>1</td>\n",
       "      <td>R1</td>\n",
       "      <td>0</td>\n",
       "      <td>A</td>\n",
       "      <td>79537</td>\n",
       "    </tr>\n",
       "    <tr>\n",
       "      <th>79537</th>\n",
       "      <td>Entre 45 y 50</td>\n",
       "      <td>0</td>\n",
       "      <td>R2</td>\n",
       "      <td>0</td>\n",
       "      <td>A</td>\n",
       "      <td>79538</td>\n",
       "    </tr>\n",
       "    <tr>\n",
       "      <th>79538</th>\n",
       "      <td>Entre 50 y 55</td>\n",
       "      <td>0</td>\n",
       "      <td>R2</td>\n",
       "      <td>0</td>\n",
       "      <td>A</td>\n",
       "      <td>79539</td>\n",
       "    </tr>\n",
       "  </tbody>\n",
       "</table>\n",
       "<p>79539 rows × 6 columns</p>\n",
       "</div>"
      ],
      "text/plain": [
       "                Edad  Sexo Renta  Recibe_sueldo_en_cuenta Segmento_consumidor  \\\n",
       "0         Mayor a 70     1    R1                        0                   A   \n",
       "1         Mayor a 70     1    R9                        0                   B   \n",
       "2         Mayor a 70     1    R9                        1                   B   \n",
       "3         Mayor a 70     1   R10                        0                   B   \n",
       "4         Mayor a 70     1    R4                        0                   A   \n",
       "...              ...   ...   ...                      ...                 ...   \n",
       "79534  Entre 30 y 35     0    R2                        0                   A   \n",
       "79535  Entre 35 y 40     0    R1                        0                   A   \n",
       "79536  Entre 50 y 55     1    R1                        0                   A   \n",
       "79537  Entre 45 y 50     0    R2                        0                   A   \n",
       "79538  Entre 50 y 55     0    R2                        0                   A   \n",
       "\n",
       "          id  \n",
       "0          1  \n",
       "1          2  \n",
       "2          3  \n",
       "3          4  \n",
       "4          5  \n",
       "...      ...  \n",
       "79534  79535  \n",
       "79535  79536  \n",
       "79536  79537  \n",
       "79537  79538  \n",
       "79538  79539  \n",
       "\n",
       "[79539 rows x 6 columns]"
      ]
     },
     "execution_count": 86,
     "metadata": {},
     "output_type": "execute_result"
    }
   ],
   "source": [
    "csm2"
   ]
  },
  {
   "cell_type": "code",
   "execution_count": 90,
   "metadata": {},
   "outputs": [],
   "source": [
    "edad = CategoricalConverter(csm2['Edad'])\n",
    "renta = CategoricalConverter(csm2['Renta'])\n",
    "sc = CategoricalConverter(csm2['Segmento_consumidor'])\n",
    "csmnew = pd.concat([csm2 ,edad, renta , sc], axis=1, sort=False)"
   ]
  },
  {
   "cell_type": "code",
   "execution_count": 91,
   "metadata": {},
   "outputs": [],
   "source": [
    "csmnew.drop(['B' , 'Edad' , 'Renta' , 'Segmento_consumidor'], axis = 1 , inplace = True)"
   ]
  },
  {
   "cell_type": "code",
   "execution_count": 92,
   "metadata": {},
   "outputs": [],
   "source": [
    "csmnew = csmnew.rename(columns = {'A': 'SegmentoConsumidor'})"
   ]
  },
  {
   "cell_type": "code",
   "execution_count": 93,
   "metadata": {},
   "outputs": [
    {
     "data": {
      "text/html": [
       "<div>\n",
       "<style scoped>\n",
       "    .dataframe tbody tr th:only-of-type {\n",
       "        vertical-align: middle;\n",
       "    }\n",
       "\n",
       "    .dataframe tbody tr th {\n",
       "        vertical-align: top;\n",
       "    }\n",
       "\n",
       "    .dataframe thead th {\n",
       "        text-align: right;\n",
       "    }\n",
       "</style>\n",
       "<table border=\"1\" class=\"dataframe\">\n",
       "  <thead>\n",
       "    <tr style=\"text-align: right;\">\n",
       "      <th></th>\n",
       "      <th>Sexo</th>\n",
       "      <th>Recibe_sueldo_en_cuenta</th>\n",
       "      <th>id</th>\n",
       "      <th>Entre 25 y 30</th>\n",
       "      <th>Entre 30 y 35</th>\n",
       "      <th>Entre 35 y 40</th>\n",
       "      <th>Entre 40 y 45</th>\n",
       "      <th>Entre 45 y 50</th>\n",
       "      <th>Entre 50 y 55</th>\n",
       "      <th>Entre 55 y 60</th>\n",
       "      <th>...</th>\n",
       "      <th>R20</th>\n",
       "      <th>R21</th>\n",
       "      <th>R3</th>\n",
       "      <th>R4</th>\n",
       "      <th>R5</th>\n",
       "      <th>R6</th>\n",
       "      <th>R7</th>\n",
       "      <th>R8</th>\n",
       "      <th>R9</th>\n",
       "      <th>SegmentoConsumidor</th>\n",
       "    </tr>\n",
       "  </thead>\n",
       "  <tbody>\n",
       "    <tr>\n",
       "      <th>0</th>\n",
       "      <td>1</td>\n",
       "      <td>0</td>\n",
       "      <td>1</td>\n",
       "      <td>0.0</td>\n",
       "      <td>0.0</td>\n",
       "      <td>0.0</td>\n",
       "      <td>0.0</td>\n",
       "      <td>0.0</td>\n",
       "      <td>0.0</td>\n",
       "      <td>0.0</td>\n",
       "      <td>...</td>\n",
       "      <td>0.0</td>\n",
       "      <td>0.0</td>\n",
       "      <td>0.0</td>\n",
       "      <td>0.0</td>\n",
       "      <td>0.0</td>\n",
       "      <td>0.0</td>\n",
       "      <td>0.0</td>\n",
       "      <td>0.0</td>\n",
       "      <td>0.0</td>\n",
       "      <td>1.0</td>\n",
       "    </tr>\n",
       "    <tr>\n",
       "      <th>1</th>\n",
       "      <td>1</td>\n",
       "      <td>0</td>\n",
       "      <td>2</td>\n",
       "      <td>0.0</td>\n",
       "      <td>0.0</td>\n",
       "      <td>0.0</td>\n",
       "      <td>0.0</td>\n",
       "      <td>0.0</td>\n",
       "      <td>0.0</td>\n",
       "      <td>0.0</td>\n",
       "      <td>...</td>\n",
       "      <td>0.0</td>\n",
       "      <td>0.0</td>\n",
       "      <td>0.0</td>\n",
       "      <td>0.0</td>\n",
       "      <td>0.0</td>\n",
       "      <td>0.0</td>\n",
       "      <td>0.0</td>\n",
       "      <td>0.0</td>\n",
       "      <td>1.0</td>\n",
       "      <td>0.0</td>\n",
       "    </tr>\n",
       "    <tr>\n",
       "      <th>2</th>\n",
       "      <td>1</td>\n",
       "      <td>1</td>\n",
       "      <td>3</td>\n",
       "      <td>0.0</td>\n",
       "      <td>0.0</td>\n",
       "      <td>0.0</td>\n",
       "      <td>0.0</td>\n",
       "      <td>0.0</td>\n",
       "      <td>0.0</td>\n",
       "      <td>0.0</td>\n",
       "      <td>...</td>\n",
       "      <td>0.0</td>\n",
       "      <td>0.0</td>\n",
       "      <td>0.0</td>\n",
       "      <td>0.0</td>\n",
       "      <td>0.0</td>\n",
       "      <td>0.0</td>\n",
       "      <td>0.0</td>\n",
       "      <td>0.0</td>\n",
       "      <td>1.0</td>\n",
       "      <td>0.0</td>\n",
       "    </tr>\n",
       "    <tr>\n",
       "      <th>3</th>\n",
       "      <td>1</td>\n",
       "      <td>0</td>\n",
       "      <td>4</td>\n",
       "      <td>0.0</td>\n",
       "      <td>0.0</td>\n",
       "      <td>0.0</td>\n",
       "      <td>0.0</td>\n",
       "      <td>0.0</td>\n",
       "      <td>0.0</td>\n",
       "      <td>0.0</td>\n",
       "      <td>...</td>\n",
       "      <td>0.0</td>\n",
       "      <td>0.0</td>\n",
       "      <td>0.0</td>\n",
       "      <td>0.0</td>\n",
       "      <td>0.0</td>\n",
       "      <td>0.0</td>\n",
       "      <td>0.0</td>\n",
       "      <td>0.0</td>\n",
       "      <td>0.0</td>\n",
       "      <td>0.0</td>\n",
       "    </tr>\n",
       "    <tr>\n",
       "      <th>4</th>\n",
       "      <td>1</td>\n",
       "      <td>0</td>\n",
       "      <td>5</td>\n",
       "      <td>0.0</td>\n",
       "      <td>0.0</td>\n",
       "      <td>0.0</td>\n",
       "      <td>0.0</td>\n",
       "      <td>0.0</td>\n",
       "      <td>0.0</td>\n",
       "      <td>0.0</td>\n",
       "      <td>...</td>\n",
       "      <td>0.0</td>\n",
       "      <td>0.0</td>\n",
       "      <td>0.0</td>\n",
       "      <td>1.0</td>\n",
       "      <td>0.0</td>\n",
       "      <td>0.0</td>\n",
       "      <td>0.0</td>\n",
       "      <td>0.0</td>\n",
       "      <td>0.0</td>\n",
       "      <td>1.0</td>\n",
       "    </tr>\n",
       "  </tbody>\n",
       "</table>\n",
       "<p>5 rows × 36 columns</p>\n",
       "</div>"
      ],
      "text/plain": [
       "   Sexo  Recibe_sueldo_en_cuenta  id  Entre 25 y 30  Entre 30 y 35  \\\n",
       "0     1                        0   1            0.0            0.0   \n",
       "1     1                        0   2            0.0            0.0   \n",
       "2     1                        1   3            0.0            0.0   \n",
       "3     1                        0   4            0.0            0.0   \n",
       "4     1                        0   5            0.0            0.0   \n",
       "\n",
       "   Entre 35 y 40  Entre 40 y 45  Entre 45 y 50  Entre 50 y 55  Entre 55 y 60  \\\n",
       "0            0.0            0.0            0.0            0.0            0.0   \n",
       "1            0.0            0.0            0.0            0.0            0.0   \n",
       "2            0.0            0.0            0.0            0.0            0.0   \n",
       "3            0.0            0.0            0.0            0.0            0.0   \n",
       "4            0.0            0.0            0.0            0.0            0.0   \n",
       "\n",
       "   ...  R20  R21   R3   R4   R5   R6   R7   R8   R9  SegmentoConsumidor  \n",
       "0  ...  0.0  0.0  0.0  0.0  0.0  0.0  0.0  0.0  0.0                 1.0  \n",
       "1  ...  0.0  0.0  0.0  0.0  0.0  0.0  0.0  0.0  1.0                 0.0  \n",
       "2  ...  0.0  0.0  0.0  0.0  0.0  0.0  0.0  0.0  1.0                 0.0  \n",
       "3  ...  0.0  0.0  0.0  0.0  0.0  0.0  0.0  0.0  0.0                 0.0  \n",
       "4  ...  0.0  0.0  0.0  1.0  0.0  0.0  0.0  0.0  0.0                 1.0  \n",
       "\n",
       "[5 rows x 36 columns]"
      ]
     },
     "execution_count": 93,
     "metadata": {},
     "output_type": "execute_result"
    }
   ],
   "source": [
    "csmnew.head()"
   ]
  },
  {
   "cell_type": "code",
   "execution_count": 94,
   "metadata": {},
   "outputs": [],
   "source": [
    "csmnew.to_pickle('Consumidores.pkl')"
   ]
  },
  {
   "cell_type": "markdown",
   "metadata": {},
   "source": [
    "## ¿Borrar o no borrar principalidad?"
   ]
  }
 ],
 "metadata": {
  "kernelspec": {
   "display_name": "Python 3",
   "language": "python",
   "name": "python3"
  },
  "language_info": {
   "codemirror_mode": {
    "name": "ipython",
    "version": 3
   },
   "file_extension": ".py",
   "mimetype": "text/x-python",
   "name": "python",
   "nbconvert_exporter": "python",
   "pygments_lexer": "ipython3",
   "version": "3.8.3"
  }
 },
 "nbformat": 4,
 "nbformat_minor": 4
}
